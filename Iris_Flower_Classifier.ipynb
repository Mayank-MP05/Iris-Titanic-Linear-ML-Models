{
  "nbformat": 4,
  "nbformat_minor": 0,
  "metadata": {
    "colab": {
      "name": "Iris Flower Classifier.ipynb",
      "provenance": []
    },
    "kernelspec": {
      "name": "python3",
      "display_name": "Python 3"
    }
  },
  "cells": [
    {
      "cell_type": "code",
      "metadata": {
        "id": "UA0bOIR9F46T",
        "colab_type": "code",
        "colab": {}
      },
      "source": [
        "import tensorflow as tf\n",
        "import pandas as pd"
      ],
      "execution_count": 0,
      "outputs": []
    },
    {
      "cell_type": "code",
      "metadata": {
        "id": "vTslix_WGPK2",
        "colab_type": "code",
        "colab": {}
      },
      "source": [
        "CSV_COLUMN_NAMES = ['SepalLength', 'SepalWidth', 'PetalLength', 'PetalWidth', 'Species']\n",
        "SPECIES = ['Setosa', 'Versicolor', 'Virginica']"
      ],
      "execution_count": 0,
      "outputs": []
    },
    {
      "cell_type": "code",
      "metadata": {
        "id": "WVOJEQhjGQbO",
        "colab_type": "code",
        "outputId": "5066044b-02a9-4a54-c6fb-38ab2a0a80ef",
        "colab": {
          "base_uri": "https://localhost:8080/",
          "height": 105
        }
      },
      "source": [
        "train_path = tf.keras.utils.get_file(\n",
        "    \"iris_training.csv\", \"https://storage.googleapis.com/download.tensorflow.org/data/iris_training.csv\")\n",
        "test_path = tf.keras.utils.get_file(\n",
        "    \"iris_test.csv\", \"https://storage.googleapis.com/download.tensorflow.org/data/iris_test.csv\")\n",
        "\n",
        "train = pd.read_csv(train_path, names=CSV_COLUMN_NAMES, header=0)\n",
        "test = pd.read_csv(test_path, names=CSV_COLUMN_NAMES, header=0)"
      ],
      "execution_count": 0,
      "outputs": [
        {
          "output_type": "stream",
          "text": [
            "Downloading data from https://storage.googleapis.com/download.tensorflow.org/data/iris_training.csv\n",
            "8192/2194 [================================================================================================================] - 0s 0us/step\n",
            "Downloading data from https://storage.googleapis.com/download.tensorflow.org/data/iris_test.csv\n",
            "8192/573 [============================================================================================================================================================================================================================================================================================================================================================================================================================================] - 0s 0us/step\n"
          ],
          "name": "stdout"
        }
      ]
    },
    {
      "cell_type": "code",
      "metadata": {
        "id": "HoMQcoT3GXME",
        "colab_type": "code",
        "outputId": "5bbfef44-0fc0-404b-e71f-8a40047bbd4f",
        "colab": {
          "base_uri": "https://localhost:8080/",
          "height": 204
        }
      },
      "source": [
        "train.head()"
      ],
      "execution_count": 0,
      "outputs": [
        {
          "output_type": "execute_result",
          "data": {
            "text/html": [
              "<div>\n",
              "<style scoped>\n",
              "    .dataframe tbody tr th:only-of-type {\n",
              "        vertical-align: middle;\n",
              "    }\n",
              "\n",
              "    .dataframe tbody tr th {\n",
              "        vertical-align: top;\n",
              "    }\n",
              "\n",
              "    .dataframe thead th {\n",
              "        text-align: right;\n",
              "    }\n",
              "</style>\n",
              "<table border=\"1\" class=\"dataframe\">\n",
              "  <thead>\n",
              "    <tr style=\"text-align: right;\">\n",
              "      <th></th>\n",
              "      <th>SepalLength</th>\n",
              "      <th>SepalWidth</th>\n",
              "      <th>PetalLength</th>\n",
              "      <th>PetalWidth</th>\n",
              "      <th>Species</th>\n",
              "    </tr>\n",
              "  </thead>\n",
              "  <tbody>\n",
              "    <tr>\n",
              "      <th>0</th>\n",
              "      <td>6.4</td>\n",
              "      <td>2.8</td>\n",
              "      <td>5.6</td>\n",
              "      <td>2.2</td>\n",
              "      <td>2</td>\n",
              "    </tr>\n",
              "    <tr>\n",
              "      <th>1</th>\n",
              "      <td>5.0</td>\n",
              "      <td>2.3</td>\n",
              "      <td>3.3</td>\n",
              "      <td>1.0</td>\n",
              "      <td>1</td>\n",
              "    </tr>\n",
              "    <tr>\n",
              "      <th>2</th>\n",
              "      <td>4.9</td>\n",
              "      <td>2.5</td>\n",
              "      <td>4.5</td>\n",
              "      <td>1.7</td>\n",
              "      <td>2</td>\n",
              "    </tr>\n",
              "    <tr>\n",
              "      <th>3</th>\n",
              "      <td>4.9</td>\n",
              "      <td>3.1</td>\n",
              "      <td>1.5</td>\n",
              "      <td>0.1</td>\n",
              "      <td>0</td>\n",
              "    </tr>\n",
              "    <tr>\n",
              "      <th>4</th>\n",
              "      <td>5.7</td>\n",
              "      <td>3.8</td>\n",
              "      <td>1.7</td>\n",
              "      <td>0.3</td>\n",
              "      <td>0</td>\n",
              "    </tr>\n",
              "  </tbody>\n",
              "</table>\n",
              "</div>"
            ],
            "text/plain": [
              "   SepalLength  SepalWidth  PetalLength  PetalWidth  Species\n",
              "0          6.4         2.8          5.6         2.2        2\n",
              "1          5.0         2.3          3.3         1.0        1\n",
              "2          4.9         2.5          4.5         1.7        2\n",
              "3          4.9         3.1          1.5         0.1        0\n",
              "4          5.7         3.8          1.7         0.3        0"
            ]
          },
          "metadata": {
            "tags": []
          },
          "execution_count": 5
        }
      ]
    },
    {
      "cell_type": "code",
      "metadata": {
        "id": "KZP6tpcIGY--",
        "colab_type": "code",
        "outputId": "63771c62-8e8f-4bb8-e995-4460bc95c846",
        "colab": {
          "base_uri": "https://localhost:8080/",
          "height": 204
        }
      },
      "source": [
        "train_y = train.pop('Species')\n",
        "test_y = test.pop('Species')\n",
        "\n",
        "# The label column has now been removed from the features.\n",
        "train.head()"
      ],
      "execution_count": 0,
      "outputs": [
        {
          "output_type": "execute_result",
          "data": {
            "text/html": [
              "<div>\n",
              "<style scoped>\n",
              "    .dataframe tbody tr th:only-of-type {\n",
              "        vertical-align: middle;\n",
              "    }\n",
              "\n",
              "    .dataframe tbody tr th {\n",
              "        vertical-align: top;\n",
              "    }\n",
              "\n",
              "    .dataframe thead th {\n",
              "        text-align: right;\n",
              "    }\n",
              "</style>\n",
              "<table border=\"1\" class=\"dataframe\">\n",
              "  <thead>\n",
              "    <tr style=\"text-align: right;\">\n",
              "      <th></th>\n",
              "      <th>SepalLength</th>\n",
              "      <th>SepalWidth</th>\n",
              "      <th>PetalLength</th>\n",
              "      <th>PetalWidth</th>\n",
              "    </tr>\n",
              "  </thead>\n",
              "  <tbody>\n",
              "    <tr>\n",
              "      <th>0</th>\n",
              "      <td>6.4</td>\n",
              "      <td>2.8</td>\n",
              "      <td>5.6</td>\n",
              "      <td>2.2</td>\n",
              "    </tr>\n",
              "    <tr>\n",
              "      <th>1</th>\n",
              "      <td>5.0</td>\n",
              "      <td>2.3</td>\n",
              "      <td>3.3</td>\n",
              "      <td>1.0</td>\n",
              "    </tr>\n",
              "    <tr>\n",
              "      <th>2</th>\n",
              "      <td>4.9</td>\n",
              "      <td>2.5</td>\n",
              "      <td>4.5</td>\n",
              "      <td>1.7</td>\n",
              "    </tr>\n",
              "    <tr>\n",
              "      <th>3</th>\n",
              "      <td>4.9</td>\n",
              "      <td>3.1</td>\n",
              "      <td>1.5</td>\n",
              "      <td>0.1</td>\n",
              "    </tr>\n",
              "    <tr>\n",
              "      <th>4</th>\n",
              "      <td>5.7</td>\n",
              "      <td>3.8</td>\n",
              "      <td>1.7</td>\n",
              "      <td>0.3</td>\n",
              "    </tr>\n",
              "  </tbody>\n",
              "</table>\n",
              "</div>"
            ],
            "text/plain": [
              "   SepalLength  SepalWidth  PetalLength  PetalWidth\n",
              "0          6.4         2.8          5.6         2.2\n",
              "1          5.0         2.3          3.3         1.0\n",
              "2          4.9         2.5          4.5         1.7\n",
              "3          4.9         3.1          1.5         0.1\n",
              "4          5.7         3.8          1.7         0.3"
            ]
          },
          "metadata": {
            "tags": []
          },
          "execution_count": 6
        }
      ]
    },
    {
      "cell_type": "code",
      "metadata": {
        "id": "JlAPKrTRGbLF",
        "colab_type": "code",
        "colab": {}
      },
      "source": [
        "def input_evaluation_set():\n",
        "    features = {'SepalLength': np.array([6.4, 5.0]),\n",
        "                'SepalWidth':  np.array([2.8, 2.3]),\n",
        "                'PetalLength': np.array([5.6, 3.3]),\n",
        "                'PetalWidth':  np.array([2.2, 1.0])}\n",
        "    labels = np.array([2, 1])\n",
        "    return features, labels"
      ],
      "execution_count": 0,
      "outputs": []
    },
    {
      "cell_type": "code",
      "metadata": {
        "id": "wiOTErvgGefW",
        "colab_type": "code",
        "colab": {}
      },
      "source": [
        "def input_fn(features, labels, training=True, batch_size=256):\n",
        "    \"\"\"An input function for training or evaluating\"\"\"\n",
        "    # Convert the inputs to a Dataset.\n",
        "    dataset = tf.data.Dataset.from_tensor_slices((dict(features), labels))\n",
        "\n",
        "    # Shuffle and repeat if you are in training mode.\n",
        "    if training:\n",
        "        dataset = dataset.shuffle(1000).repeat()\n",
        "    \n",
        "    return dataset.batch(batch_size)"
      ],
      "execution_count": 0,
      "outputs": []
    },
    {
      "cell_type": "code",
      "metadata": {
        "id": "PuoVWVvHGjNK",
        "colab_type": "code",
        "colab": {}
      },
      "source": [
        "# Feature columns describe how to use the input.\n",
        "my_feature_columns = []\n",
        "for key in train.keys():\n",
        "    my_feature_columns.append(tf.feature_column.numeric_column(key=key))"
      ],
      "execution_count": 0,
      "outputs": []
    },
    {
      "cell_type": "code",
      "metadata": {
        "id": "6jye2yv9GkyH",
        "colab_type": "code",
        "outputId": "a2f471ac-0f52-4dc5-d1da-6ccc541fde17",
        "colab": {
          "base_uri": "https://localhost:8080/",
          "height": 190
        }
      },
      "source": [
        "# Build a DNN with 2 hidden layers with 30 and 10 hidden nodes each.\n",
        "classifier = tf.estimator.DNNClassifier(\n",
        "    feature_columns=my_feature_columns,\n",
        "    # Two hidden layers of 30 and 10 nodes respectively.\n",
        "    hidden_units=[30, 10],\n",
        "    # The model must choose between 3 classes.\n",
        "    n_classes=3)"
      ],
      "execution_count": 0,
      "outputs": [
        {
          "output_type": "stream",
          "text": [
            "INFO:tensorflow:Using default config.\n",
            "WARNING:tensorflow:Using temporary folder as model directory: /tmp/tmppcq5zwrx\n",
            "INFO:tensorflow:Using config: {'_model_dir': '/tmp/tmppcq5zwrx', '_tf_random_seed': None, '_save_summary_steps': 100, '_save_checkpoints_steps': None, '_save_checkpoints_secs': 600, '_session_config': allow_soft_placement: true\n",
            "graph_options {\n",
            "  rewrite_options {\n",
            "    meta_optimizer_iterations: ONE\n",
            "  }\n",
            "}\n",
            ", '_keep_checkpoint_max': 5, '_keep_checkpoint_every_n_hours': 10000, '_log_step_count_steps': 100, '_train_distribute': None, '_device_fn': None, '_protocol': None, '_eval_distribute': None, '_experimental_distribute': None, '_experimental_max_worker_delay_secs': None, '_session_creation_timeout_secs': 7200, '_service': None, '_cluster_spec': ClusterSpec({}), '_task_type': 'worker', '_task_id': 0, '_global_id_in_cluster': 0, '_master': '', '_evaluation_master': '', '_is_chief': True, '_num_ps_replicas': 0, '_num_worker_replicas': 1}\n"
          ],
          "name": "stdout"
        }
      ]
    },
    {
      "cell_type": "code",
      "metadata": {
        "id": "RNDIvw7eGoA2",
        "colab_type": "code",
        "outputId": "ff58f0ea-5f92-453a-c7a1-0ef3829bcf46",
        "colab": {
          "base_uri": "https://localhost:8080/",
          "height": 1000
        }
      },
      "source": [
        "# Train the Model.\n",
        "classifier.train(\n",
        "    input_fn=lambda: input_fn(train, train_y, training=True),\n",
        "    steps=5000)"
      ],
      "execution_count": 0,
      "outputs": [
        {
          "output_type": "stream",
          "text": [
            "WARNING:tensorflow:From /usr/local/lib/python3.6/dist-packages/tensorflow/python/ops/resource_variable_ops.py:1666: calling BaseResourceVariable.__init__ (from tensorflow.python.ops.resource_variable_ops) with constraint is deprecated and will be removed in a future version.\n",
            "Instructions for updating:\n",
            "If using Keras pass *_constraint arguments to layers.\n",
            "WARNING:tensorflow:From /usr/local/lib/python3.6/dist-packages/tensorflow/python/training/training_util.py:236: Variable.initialized_value (from tensorflow.python.ops.variables) is deprecated and will be removed in a future version.\n",
            "Instructions for updating:\n",
            "Use Variable.read_value. Variables in 2.X are initialized automatically both in eager and graph (inside tf.defun) contexts.\n",
            "INFO:tensorflow:Calling model_fn.\n",
            "WARNING:tensorflow:Layer dnn is casting an input tensor from dtype float64 to the layer's dtype of float32, which is new behavior in TensorFlow 2.  The layer has dtype float32 because it's dtype defaults to floatx.\n",
            "\n",
            "If you intended to run this layer in float32, you can safely ignore this warning. If in doubt, this warning is likely only an issue if you are porting a TensorFlow 1.X model to TensorFlow 2.\n",
            "\n",
            "To change all layers to have dtype float64 by default, call `tf.keras.backend.set_floatx('float64')`. To change just this layer, pass dtype='float64' to the layer constructor. If you are the author of this layer, you can disable autocasting by passing autocast=False to the base Layer constructor.\n",
            "\n",
            "WARNING:tensorflow:From /usr/local/lib/python3.6/dist-packages/tensorflow/python/keras/optimizer_v2/adagrad.py:106: calling Constant.__init__ (from tensorflow.python.ops.init_ops) with dtype is deprecated and will be removed in a future version.\n",
            "Instructions for updating:\n",
            "Call initializer instance with the dtype argument instead of passing it to the constructor\n",
            "INFO:tensorflow:Done calling model_fn.\n",
            "INFO:tensorflow:Create CheckpointSaverHook.\n",
            "INFO:tensorflow:Graph was finalized.\n",
            "INFO:tensorflow:Running local_init_op.\n",
            "INFO:tensorflow:Done running local_init_op.\n",
            "INFO:tensorflow:Calling checkpoint listeners before saving checkpoint 0...\n",
            "INFO:tensorflow:Saving checkpoints for 0 into /tmp/tmppcq5zwrx/model.ckpt.\n",
            "INFO:tensorflow:Calling checkpoint listeners after saving checkpoint 0...\n",
            "INFO:tensorflow:loss = 1.7354326, step = 0\n",
            "INFO:tensorflow:global_step/sec: 450.383\n",
            "INFO:tensorflow:loss = 1.0711483, step = 100 (0.224 sec)\n",
            "INFO:tensorflow:global_step/sec: 603.433\n",
            "INFO:tensorflow:loss = 1.0104225, step = 200 (0.168 sec)\n",
            "INFO:tensorflow:global_step/sec: 568.705\n",
            "INFO:tensorflow:loss = 0.95639396, step = 300 (0.177 sec)\n",
            "INFO:tensorflow:global_step/sec: 475.808\n",
            "INFO:tensorflow:loss = 0.92784256, step = 400 (0.206 sec)\n",
            "INFO:tensorflow:global_step/sec: 596.753\n",
            "INFO:tensorflow:loss = 0.90083766, step = 500 (0.168 sec)\n",
            "INFO:tensorflow:global_step/sec: 582.43\n",
            "INFO:tensorflow:loss = 0.88112354, step = 600 (0.171 sec)\n",
            "INFO:tensorflow:global_step/sec: 600.152\n",
            "INFO:tensorflow:loss = 0.8646314, step = 700 (0.167 sec)\n",
            "INFO:tensorflow:global_step/sec: 492.666\n",
            "INFO:tensorflow:loss = 0.85537016, step = 800 (0.203 sec)\n",
            "INFO:tensorflow:global_step/sec: 561.35\n",
            "INFO:tensorflow:loss = 0.82859606, step = 900 (0.180 sec)\n",
            "INFO:tensorflow:global_step/sec: 529.639\n",
            "INFO:tensorflow:loss = 0.8096012, step = 1000 (0.188 sec)\n",
            "INFO:tensorflow:global_step/sec: 599.049\n",
            "INFO:tensorflow:loss = 0.8034631, step = 1100 (0.169 sec)\n",
            "INFO:tensorflow:global_step/sec: 546.679\n",
            "INFO:tensorflow:loss = 0.7849195, step = 1200 (0.181 sec)\n",
            "INFO:tensorflow:global_step/sec: 601.191\n",
            "INFO:tensorflow:loss = 0.7728238, step = 1300 (0.167 sec)\n",
            "INFO:tensorflow:global_step/sec: 600.423\n",
            "INFO:tensorflow:loss = 0.75739783, step = 1400 (0.166 sec)\n",
            "INFO:tensorflow:global_step/sec: 528.83\n",
            "INFO:tensorflow:loss = 0.7314762, step = 1500 (0.190 sec)\n",
            "INFO:tensorflow:global_step/sec: 575.692\n",
            "INFO:tensorflow:loss = 0.7024485, step = 1600 (0.173 sec)\n",
            "INFO:tensorflow:global_step/sec: 589.466\n",
            "INFO:tensorflow:loss = 0.6923919, step = 1700 (0.173 sec)\n",
            "INFO:tensorflow:global_step/sec: 580.143\n",
            "INFO:tensorflow:loss = 0.67577314, step = 1800 (0.170 sec)\n",
            "INFO:tensorflow:global_step/sec: 572.461\n",
            "INFO:tensorflow:loss = 0.65519035, step = 1900 (0.174 sec)\n",
            "INFO:tensorflow:global_step/sec: 557.913\n",
            "INFO:tensorflow:loss = 0.6380333, step = 2000 (0.180 sec)\n",
            "INFO:tensorflow:global_step/sec: 528.411\n",
            "INFO:tensorflow:loss = 0.63300806, step = 2100 (0.189 sec)\n",
            "INFO:tensorflow:global_step/sec: 591.472\n",
            "INFO:tensorflow:loss = 0.631069, step = 2200 (0.171 sec)\n",
            "INFO:tensorflow:global_step/sec: 563.271\n",
            "INFO:tensorflow:loss = 0.6134183, step = 2300 (0.176 sec)\n",
            "INFO:tensorflow:global_step/sec: 542.506\n",
            "INFO:tensorflow:loss = 0.6081971, step = 2400 (0.186 sec)\n",
            "INFO:tensorflow:global_step/sec: 589.886\n",
            "INFO:tensorflow:loss = 0.603985, step = 2500 (0.167 sec)\n",
            "INFO:tensorflow:global_step/sec: 641.876\n",
            "INFO:tensorflow:loss = 0.5977572, step = 2600 (0.155 sec)\n",
            "INFO:tensorflow:global_step/sec: 604.129\n",
            "INFO:tensorflow:loss = 0.58564353, step = 2700 (0.168 sec)\n",
            "INFO:tensorflow:global_step/sec: 604.887\n",
            "INFO:tensorflow:loss = 0.56538725, step = 2800 (0.166 sec)\n",
            "INFO:tensorflow:global_step/sec: 632.739\n",
            "INFO:tensorflow:loss = 0.57735425, step = 2900 (0.156 sec)\n",
            "INFO:tensorflow:global_step/sec: 631.441\n",
            "INFO:tensorflow:loss = 0.56228185, step = 3000 (0.161 sec)\n",
            "INFO:tensorflow:global_step/sec: 629.94\n",
            "INFO:tensorflow:loss = 0.5552821, step = 3100 (0.162 sec)\n",
            "INFO:tensorflow:global_step/sec: 589.079\n",
            "INFO:tensorflow:loss = 0.53687483, step = 3200 (0.169 sec)\n",
            "INFO:tensorflow:global_step/sec: 568.848\n",
            "INFO:tensorflow:loss = 0.5335334, step = 3300 (0.171 sec)\n",
            "INFO:tensorflow:global_step/sec: 610.544\n",
            "INFO:tensorflow:loss = 0.53359056, step = 3400 (0.163 sec)\n",
            "INFO:tensorflow:global_step/sec: 608.763\n",
            "INFO:tensorflow:loss = 0.524637, step = 3500 (0.165 sec)\n",
            "INFO:tensorflow:global_step/sec: 638.55\n",
            "INFO:tensorflow:loss = 0.51659125, step = 3600 (0.156 sec)\n",
            "INFO:tensorflow:global_step/sec: 594.803\n",
            "INFO:tensorflow:loss = 0.5025922, step = 3700 (0.168 sec)\n",
            "INFO:tensorflow:global_step/sec: 654.977\n",
            "INFO:tensorflow:loss = 0.50539845, step = 3800 (0.155 sec)\n",
            "INFO:tensorflow:global_step/sec: 601.334\n",
            "INFO:tensorflow:loss = 0.48734453, step = 3900 (0.166 sec)\n",
            "INFO:tensorflow:global_step/sec: 628.894\n",
            "INFO:tensorflow:loss = 0.48148715, step = 4000 (0.159 sec)\n",
            "INFO:tensorflow:global_step/sec: 631.67\n",
            "INFO:tensorflow:loss = 0.48213565, step = 4100 (0.157 sec)\n",
            "INFO:tensorflow:global_step/sec: 625.143\n",
            "INFO:tensorflow:loss = 0.4730289, step = 4200 (0.160 sec)\n",
            "INFO:tensorflow:global_step/sec: 623.882\n",
            "INFO:tensorflow:loss = 0.46436858, step = 4300 (0.162 sec)\n",
            "INFO:tensorflow:global_step/sec: 625.395\n",
            "INFO:tensorflow:loss = 0.4649287, step = 4400 (0.159 sec)\n",
            "INFO:tensorflow:global_step/sec: 611.856\n",
            "INFO:tensorflow:loss = 0.4570654, step = 4500 (0.161 sec)\n",
            "INFO:tensorflow:global_step/sec: 583.594\n",
            "INFO:tensorflow:loss = 0.462067, step = 4600 (0.171 sec)\n",
            "INFO:tensorflow:global_step/sec: 627.208\n",
            "INFO:tensorflow:loss = 0.44967556, step = 4700 (0.162 sec)\n",
            "INFO:tensorflow:global_step/sec: 661.697\n",
            "INFO:tensorflow:loss = 0.44982874, step = 4800 (0.151 sec)\n",
            "INFO:tensorflow:global_step/sec: 578.559\n",
            "INFO:tensorflow:loss = 0.43046635, step = 4900 (0.170 sec)\n",
            "INFO:tensorflow:Calling checkpoint listeners before saving checkpoint 5000...\n",
            "INFO:tensorflow:Saving checkpoints for 5000 into /tmp/tmppcq5zwrx/model.ckpt.\n",
            "INFO:tensorflow:Calling checkpoint listeners after saving checkpoint 5000...\n",
            "INFO:tensorflow:Loss for final step: 0.42639405.\n"
          ],
          "name": "stdout"
        },
        {
          "output_type": "execute_result",
          "data": {
            "text/plain": [
              "<tensorflow_estimator.python.estimator.canned.dnn.DNNClassifierV2 at 0x7f9df170a898>"
            ]
          },
          "metadata": {
            "tags": []
          },
          "execution_count": 11
        }
      ]
    },
    {
      "cell_type": "code",
      "metadata": {
        "id": "fB9aAjDZGwBu",
        "colab_type": "code",
        "outputId": "87911d1c-331c-4e90-cbc1-2e11ca411c77",
        "colab": {
          "base_uri": "https://localhost:8080/",
          "height": 394
        }
      },
      "source": [
        "eval_result = classifier.evaluate(\n",
        "    input_fn=lambda: input_fn(test, test_y, training=False))\n",
        "print(eval_result)\n",
        "print('\\nTest set accuracy: {accuracy:0.3f}\\n'.format(**eval_result))"
      ],
      "execution_count": 0,
      "outputs": [
        {
          "output_type": "stream",
          "text": [
            "INFO:tensorflow:Calling model_fn.\n",
            "WARNING:tensorflow:Layer dnn is casting an input tensor from dtype float64 to the layer's dtype of float32, which is new behavior in TensorFlow 2.  The layer has dtype float32 because it's dtype defaults to floatx.\n",
            "\n",
            "If you intended to run this layer in float32, you can safely ignore this warning. If in doubt, this warning is likely only an issue if you are porting a TensorFlow 1.X model to TensorFlow 2.\n",
            "\n",
            "To change all layers to have dtype float64 by default, call `tf.keras.backend.set_floatx('float64')`. To change just this layer, pass dtype='float64' to the layer constructor. If you are the author of this layer, you can disable autocasting by passing autocast=False to the base Layer constructor.\n",
            "\n",
            "INFO:tensorflow:Done calling model_fn.\n",
            "INFO:tensorflow:Starting evaluation at 2020-05-16T06:19:54Z\n",
            "INFO:tensorflow:Graph was finalized.\n",
            "INFO:tensorflow:Restoring parameters from /tmp/tmppcq5zwrx/model.ckpt-5000\n",
            "INFO:tensorflow:Running local_init_op.\n",
            "INFO:tensorflow:Done running local_init_op.\n",
            "INFO:tensorflow:Inference Time : 0.29756s\n",
            "INFO:tensorflow:Finished evaluation at 2020-05-16-06:19:54\n",
            "INFO:tensorflow:Saving dict for global step 5000: accuracy = 0.93333334, average_loss = 0.49897727, global_step = 5000, loss = 0.49897727\n",
            "INFO:tensorflow:Saving 'checkpoint_path' summary for global step 5000: /tmp/tmppcq5zwrx/model.ckpt-5000\n",
            "{'accuracy': 0.93333334, 'average_loss': 0.49897727, 'loss': 0.49897727, 'global_step': 5000}\n",
            "\n",
            "Test set accuracy: 0.933\n",
            "\n"
          ],
          "name": "stdout"
        }
      ]
    },
    {
      "cell_type": "code",
      "metadata": {
        "id": "wE4bmlQDG3BX",
        "colab_type": "code",
        "outputId": "d66749bb-8742-42c8-e3b3-be600f3046c1",
        "colab": {
          "base_uri": "https://localhost:8080/",
          "height": 34
        }
      },
      "source": [
        "# Generate predictions from the model\n",
        "expected = ['Setosa', 'Versicolor', 'Virginica']\n",
        "predict_x = {\n",
        "    'SepalLength': [4.9, 5.9, 6.9],\n",
        "    'SepalWidth': [3.0, 3.0, 3.1],\n",
        "    'PetalLength': [1.5, 4.2, 5.4],\n",
        "    'PetalWidth': [0.2, 1.5, 2.1],\n",
        "}\n",
        "\n",
        "\n",
        "# 4.9\t3.0\t1.4\t0.2\n",
        "def input_fn(features, batch_size=256):\n",
        "    \"\"\"An input function for prediction.\"\"\"\n",
        "    # Convert the inputs to a Dataset without labels.\n",
        "    return tf.data.Dataset.from_tensor_slices(dict(features)).batch(batch_size)\n",
        "\n",
        "predictions = classifier.predict(\n",
        "    input_fn=lambda: input_fn(predict_x))\n",
        "\n",
        "print(predictions)"
      ],
      "execution_count": 0,
      "outputs": [
        {
          "output_type": "stream",
          "text": [
            "<generator object Estimator.predict at 0x7f9dea249518>\n"
          ],
          "name": "stdout"
        }
      ]
    },
    {
      "cell_type": "code",
      "metadata": {
        "id": "MlqNQH8LG5p-",
        "colab_type": "code",
        "outputId": "eaf57922-0d5f-4856-ee09-dc9b09a01b8a",
        "colab": {
          "base_uri": "https://localhost:8080/",
          "height": 170
        }
      },
      "source": [
        "for pred_dict, expec in zip(predictions, expected):\n",
        "    class_id = pred_dict['class_ids'][0]\n",
        "    probability = pred_dict['probabilities'][class_id]\n",
        "\n",
        "    print('Prediction is \"{}\" ({:.1f}%), expected \"{}\"'.format(\n",
        "        SPECIES[class_id], 100 * probability, expec))"
      ],
      "execution_count": 0,
      "outputs": [
        {
          "output_type": "stream",
          "text": [
            "INFO:tensorflow:Calling model_fn.\n",
            "INFO:tensorflow:Done calling model_fn.\n",
            "INFO:tensorflow:Graph was finalized.\n",
            "INFO:tensorflow:Restoring parameters from /tmp/tmppcq5zwrx/model.ckpt-5000\n",
            "INFO:tensorflow:Running local_init_op.\n",
            "INFO:tensorflow:Done running local_init_op.\n",
            "Prediction is \"Setosa\" (74.3%), expected \"Setosa\"\n",
            "Prediction is \"Versicolor\" (50.0%), expected \"Versicolor\"\n",
            "Prediction is \"Virginica\" (64.3%), expected \"Virginica\"\n"
          ],
          "name": "stdout"
        }
      ]
    }
  ]
}